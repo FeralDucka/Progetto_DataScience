{
 "cells": [
  {
   "cell_type": "code",
   "execution_count": null,
   "id": "b79dbefe-a290-4db5-885a-58fd5a64eab2",
   "metadata": {
    "editable": false,
    "jupyter": {
     "source_hidden": true
    },
    "scrolled": true,
    "slideshow": {
     "slide_type": ""
    },
    "tags": []
   },
   "outputs": [],
   "source": [
    "%pip install pandas"
   ]
  },
  {
   "cell_type": "code",
   "execution_count": null,
   "id": "7b019d27-5465-43f5-9b6c-e12711e5d4c3",
   "metadata": {
    "editable": false,
    "jupyter": {
     "source_hidden": true
    },
    "scrolled": true,
    "slideshow": {
     "slide_type": ""
    },
    "tags": []
   },
   "outputs": [],
   "source": [
    "%pip install numpy"
   ]
  },
  {
   "cell_type": "code",
   "execution_count": null,
   "id": "6fc8ee94-e1c2-4fac-a5dd-164a52720a49",
   "metadata": {
    "editable": false,
    "jupyter": {
     "source_hidden": true
    },
    "scrolled": true,
    "slideshow": {
     "slide_type": ""
    },
    "tags": []
   },
   "outputs": [],
   "source": [
    "%pip install matplotlib"
   ]
  },
  {
   "cell_type": "code",
   "execution_count": null,
   "id": "4fe7d327-81e0-47c4-9bc2-3a7251748f93",
   "metadata": {
    "editable": false,
    "jupyter": {
     "source_hidden": true
    },
    "scrolled": true,
    "slideshow": {
     "slide_type": ""
    },
    "tags": []
   },
   "outputs": [],
   "source": [
    "%pip install seaborn"
   ]
  },
  {
   "cell_type": "code",
   "execution_count": null,
   "id": "495f59ba-5850-4970-a829-3ccd6b6f0947",
   "metadata": {
    "editable": false,
    "jupyter": {
     "source_hidden": true
    },
    "slideshow": {
     "slide_type": ""
    },
    "tags": []
   },
   "outputs": [],
   "source": [
    "import re\n",
    "import math\n",
    "\n",
    "import pandas as pd\n",
    "from collections import defaultdict, Counter\n",
    "\n",
    "import numpy as np\n",
    "import matplotlib.pyplot as mplPlt\n",
    "import matplotlib.colors as mplColors\n",
    "import matplotlib.animation as mplAnimation\n",
    "import matplotlib.dates as mdates\n",
    "\n",
    "import seaborn as sns"
   ]
  },
  {
   "cell_type": "code",
   "execution_count": null,
   "id": "fb0d83eb-83c1-454c-8f8e-fc954446e019",
   "metadata": {
    "editable": false,
    "jupyter": {
     "source_hidden": true
    },
    "slideshow": {
     "slide_type": ""
    },
    "tags": []
   },
   "outputs": [],
   "source": [
    "# Read the input CSV file with auto-detected delimiter and specified encoding\n",
    "qpu_file = 'Datasets/QPU list 2025.csv'\n",
    "qpu_df = pd.read_csv(qpu_file, sep=None, engine='python', encoding='latin1')\n",
    "\n",
    "# Remove parenthetical acronyms from 'Manufacturer' column\n",
    "qpu_df['Manufacturer'] = qpu_df['Manufacturer'].str.replace(r'\\s*\\([^)]*\\)', '', regex=True)\n",
    "\n",
    "# Split the Manufacturers from a single string to an array\n",
    "for index, row in qpu_df.iterrows():\n",
    "    qpu_df.at[index, 'Manufacturer'] = row['Manufacturer'].split(\" + \")"
   ]
  },
  {
   "cell_type": "code",
   "execution_count": null,
   "id": "5b19654d-3298-4f81-a2e1-9bbc2f44ef58",
   "metadata": {
    "editable": false,
    "jupyter": {
     "source_hidden": true
    },
    "slideshow": {
     "slide_type": ""
    },
    "tags": []
   },
   "outputs": [],
   "source": [
    "# Load the organizations CSV with semicolon delimiter\n",
    "org_file = 'Datasets/quantum_computing_report___organizations.csv'\n",
    "org_df = pd.read_csv(org_file, sep=';', encoding='latin1')\n",
    "\n",
    "# Split the Organizations from a single string to an array\n",
    "for index, row in org_df.iterrows():\n",
    "     org_df.at[index, 'Location'] = row['Location'].split(\", \")"
   ]
  },
  {
   "cell_type": "code",
   "execution_count": null,
   "id": "85f9f0f1-535d-4422-a5af-687728e801c2",
   "metadata": {
    "editable": false,
    "jupyter": {
     "source_hidden": true
    },
    "slideshow": {
     "slide_type": ""
    },
    "tags": []
   },
   "outputs": [],
   "source": [
    "#List of all unique Manufacturers\n",
    "UniqueManufacturers = qpu_df[\"Manufacturer\"].explode().dropna().unique().tolist()\n",
    "\n",
    "#List of all unique Organizations\n",
    "UniqueOrganizations = org_df['Organization'].dropna().unique().tolist()"
   ]
  },
  {
   "cell_type": "code",
   "execution_count": null,
   "id": "4582178b-fa50-4e0b-ada9-49f7007444e2",
   "metadata": {
    "editable": false,
    "jupyter": {
     "source_hidden": true
    },
    "scrolled": true,
    "slideshow": {
     "slide_type": ""
    },
    "tags": []
   },
   "outputs": [],
   "source": [
    "# -----------------------------------------------------------\n",
    "# 1. Helper functions\n",
    "# -----------------------------------------------------------\n",
    "def tokenize(text: str) -> list[str]:\n",
    "    text = text.lower()\n",
    "    split_re = re.compile(r\"[^A-Za-z0-9]+\")\n",
    "    pieces = split_re.split(text)\n",
    "    tokens = [] \n",
    "    for p in pieces:\n",
    "        if p:\n",
    "            tokens.append(p)\n",
    "    return tokens\n",
    "\n",
    "\n",
    "def tfidf_vector(tokens: list[str], idf: dict[str, float]) -> dict[str, float]:\n",
    "    tf = defaultdict(int)\n",
    "    for tok in tokens:\n",
    "        tf[tok] += 1\n",
    "    for tok in tf:\n",
    "        tf[tok] *= idf[tok]\n",
    "    return tf\n",
    "\n",
    "\n",
    "def cosine_sim(a: dict[str, float], b: dict[str, float]) -> float:\n",
    "    num = 0.0\n",
    "    for key, aval in a.items():\n",
    "        num += aval * b.get(key, 0.0)\n",
    "\n",
    "    sum_sq_a = 0.0\n",
    "    for val in a.values():\n",
    "        sum_sq_a += val * val\n",
    "    len_a = math.sqrt(sum_sq_a)\n",
    "\n",
    "    sum_sq_b = 0.0\n",
    "    for val in b.values():\n",
    "        sum_sq_b += val * val\n",
    "    len_b = math.sqrt(sum_sq_b)\n",
    "\n",
    "    denom = len_a * len_b\n",
    "\n",
    "    if denom == 0.0:\n",
    "        return 0.0\n",
    "    else:\n",
    "        return num / denom\n",
    "\n",
    "\n",
    "\n",
    "\n",
    "# -----------------------------------------------------------\n",
    "# 2. Build IDF dictionary\n",
    "# -----------------------------------------------------------\n",
    "tokens_all = []\n",
    "for t in UniqueManufacturers + UniqueOrganizations:\n",
    "    tokens_all.append(tokenize(t)) \n",
    "\n",
    "df_counts = defaultdict(int)\n",
    "for doc in set(tuple(t) for t in tokens_all):\n",
    "    for tok in set(doc):\n",
    "        df_counts[tok] += 1\n",
    "\n",
    "idf = defaultdict(int)\n",
    "for key in df_counts:\n",
    "    idf[key] = math.log((len(UniqueManufacturers) + len(UniqueOrganizations)  + 1)/(df_counts[key] + 1)) + 1\n",
    "\n",
    "\n",
    "\n",
    "# -----------------------------------------------------------\n",
    "# 3. Pre-compute vectors\n",
    "# -----------------------------------------------------------\n",
    "manu_vecs = {}\n",
    "for m in UniqueManufacturers:\n",
    "    manu_vecs[m] = tfidf_vector(tokenize(m), idf)\n",
    "\n",
    "org_vecs = {}\n",
    "for o in UniqueOrganizations:\n",
    "    org_vecs[o] = tfidf_vector(tokenize(o), idf)\n",
    "\n",
    "\n",
    "\n",
    "\n",
    "\n",
    "# -----------------------------------------------------------\n",
    "# 4. Find best-matching organisation for every manufacturer   |\n",
    "# -----------------------------------------------------------\n",
    "best_match = {}\n",
    "\n",
    "for m, v_m in manu_vecs.items():\n",
    "    best_o = None\n",
    "    best_s = -1.0\n",
    "    for o, v_o in org_vecs.items():\n",
    "        s = cosine_sim(v_m, v_o)\n",
    "        if s > best_s:\n",
    "            best_o, best_s = o, s\n",
    "    best_match[m] = (best_o, best_s)"
   ]
  },
  {
   "cell_type": "code",
   "execution_count": null,
   "id": "f3e2e9ae-2069-40c6-adc0-67afd71e2f61",
   "metadata": {
    "editable": false,
    "jupyter": {
     "source_hidden": true
    },
    "slideshow": {
     "slide_type": ""
    },
    "tags": []
   },
   "outputs": [],
   "source": [
    "# -----------------------------------------------------------\n",
    "# 1.  Build the three TF-IDF columns in one pass\n",
    "# -----------------------------------------------------------\n",
    "matched_orgs = []\n",
    "matched_scores = []\n",
    "matched_locs = []\n",
    "\n",
    "\n",
    "for _, qpu_row in qpu_df.iterrows():\n",
    "    manufacturers = qpu_row[\"Manufacturer\"]\n",
    "\n",
    "    row_orgs = []\n",
    "    row_scores = []\n",
    "    row_locs = []\n",
    "\n",
    "    for mfr in manufacturers:\n",
    "        org, score = best_match.get(mfr, (None, None))\n",
    "        row_orgs.append(org)\n",
    "        row_scores.append(score)\n",
    "\n",
    "        # on-the-fly organisation -> location lookup\n",
    "        loc_val = None\n",
    "        for _, org_row in org_df.iterrows():\n",
    "            if org_row[\"Organization\"] == org:\n",
    "                row_locs = org_row[\"Location\"]\n",
    "                break\n",
    "\n",
    "    matched_orgs.append(row_orgs)\n",
    "    matched_scores.append(row_scores)\n",
    "    matched_locs.append(row_locs)\n",
    "\n",
    "\n",
    "\n",
    "# -----------------------------------------------------------\n",
    "# 2.  Attach the new columns\n",
    "# -----------------------------------------------------------\n",
    "qpu_df[\"TFIDF_Matched_Organization\"] = matched_orgs\n",
    "qpu_df[\"TFIDF_Match_Score\"]          = matched_scores\n",
    "qpu_df[\"TFIDF_Matched_Location\"]     = matched_locs\n"
   ]
  },
  {
   "cell_type": "code",
   "execution_count": null,
   "id": "34346d7a-a836-4e1e-983f-8084d91d9ceb",
   "metadata": {
    "editable": true,
    "jupyter": {
     "source_hidden": true
    },
    "slideshow": {
     "slide_type": ""
    },
    "tags": []
   },
   "outputs": [],
   "source": [
    "#qpu_df.to_csv('test_join.csv', index=False, sep=';')"
   ]
  },
  {
   "cell_type": "code",
   "execution_count": null,
   "id": "abc9a7b1-7f92-4a61-aef5-800b1c632182",
   "metadata": {
    "editable": false,
    "jupyter": {
     "source_hidden": true
    },
    "slideshow": {
     "slide_type": ""
    },
    "tags": []
   },
   "outputs": [],
   "source": [
    "country_counter = Counter()\n",
    "\n",
    "for index, row in qpu_df.iterrows():\n",
    "    for c in row['TFIDF_Matched_Location']:\n",
    "        country_counter[c] += 1\n",
    "\n",
    "country_counter = Counter(dict(country_counter.most_common()))"
   ]
  },
  {
   "cell_type": "code",
   "execution_count": null,
   "id": "e152468d-aaf7-4c2a-a0e1-e0f996d2dc54",
   "metadata": {
    "editable": false,
    "jupyter": {
     "source_hidden": true
    },
    "slideshow": {
     "slide_type": ""
    },
    "tags": []
   },
   "outputs": [],
   "source": [
    "def world_hist(counter):\n",
    "    # --- data --------------------------------------------------------------\n",
    "    countries = list(counter.keys())\n",
    "    counts = np.array(list(counter.values()))\n",
    "    n_bars = len(counts)\n",
    "\n",
    "    # --- colours -----------------------------------------------------------\n",
    "    cmap = mplColors.LinearSegmentedColormap.from_list(\"\", [\"#A467B5\", \"#ffffff\"], N=16384)\n",
    "    colors = cmap(np.log1p(25 * np.linspace(0, 1, n_bars)) / np.log1p(25))\n",
    "\n",
    "    # --- static figure -----------------------------------------------------\n",
    "    fig, ax = mplPlt.subplots(figsize=(10, 9))\n",
    "    x = np.arange(n_bars)\n",
    "    \n",
    "    bars = ax.bar(x, np.zeros_like(counts), color=colors, edgecolor=\"black\")\n",
    "\n",
    "    ax.set_xticks(x)\n",
    "    ax.set_xticklabels(countries, rotation=90)\n",
    "    ax.set_ylim(0, counts.max() * 1.1)\n",
    "    ax.set_title(\"Numero di modelli di QPU per Nazione\", fontsize=16, pad=20)\n",
    "    ax.set_xlabel(\"Nazione\", fontsize=14, labelpad=30)\n",
    "    ax.set_ylabel(\"Numero di modelli di QPU sviluppate\", fontsize=14, labelpad=25)\n",
    "\n",
    "    # --- animation ---------------------------------------------------------\n",
    "    steps_per_bar = 1\n",
    "    total_frames = int((n_bars * steps_per_bar) * 1.1)\n",
    "\n",
    "    def init():\n",
    "        for bar in bars:\n",
    "            bar.set_height(0)\n",
    "        return bars\n",
    "\n",
    "    def animate(frame):\n",
    "        bar_idx = frame // steps_per_bar\n",
    "        prog = (frame % steps_per_bar) / steps_per_bar\n",
    "\n",
    "        for i, bar in enumerate(bars):\n",
    "            if i < bar_idx:\n",
    "                bar.set_height(counts[i])\n",
    "            elif i == bar_idx:\n",
    "                bar.set_height(counts[i] * prog)\n",
    "            else:\n",
    "                bar.set_height(0)\n",
    "        return bars\n",
    "\n",
    "    return mplAnimation.FuncAnimation(fig, animate, init_func=init, frames=total_frames, blit=True)"
   ]
  },
  {
   "cell_type": "code",
   "execution_count": null,
   "id": "a6b16d26-9915-4a68-924d-4998a1968dc9",
   "metadata": {
    "editable": false,
    "jupyter": {
     "source_hidden": true
    },
    "scrolled": true,
    "slideshow": {
     "slide_type": ""
    },
    "tags": []
   },
   "outputs": [],
   "source": [
    "hist_anim = world_hist(country_counter)\n",
    "hist_anim.save(\"Media/qpus_histogram.mp4\", writer=mplAnimation.FFMpegWriter(fps=20, codec=\"libx264\"), dpi=200)"
   ]
  },
  {
   "cell_type": "code",
   "execution_count": null,
   "id": "0c20c6fb-8ad0-4895-87ad-e69523630de6",
   "metadata": {
    "editable": false,
    "jupyter": {
     "source_hidden": true
    },
    "slideshow": {
     "slide_type": ""
    },
    "tags": []
   },
   "outputs": [],
   "source": [
    "qpu_df['Technology'] = qpu_df['Technology'].str.replace(r'\\s*\\([^)]*\\)', '', regex=True)"
   ]
  },
  {
   "cell_type": "code",
   "execution_count": null,
   "id": "8edcd0f6-9397-4a11-9d8b-848401c40b25",
   "metadata": {
    "editable": false,
    "jupyter": {
     "source_hidden": true
    },
    "slideshow": {
     "slide_type": ""
    },
    "tags": []
   },
   "outputs": [],
   "source": [
    "qpu_heatmap = pd.DataFrame(columns=['country', 'tech', 'count'])\n",
    "\n",
    "for index, row in qpu_df.iterrows():\n",
    "    tech = row['Technology']\n",
    "    for country in row['TFIDF_Matched_Location']:\n",
    "        mask = (qpu_heatmap['country'] == country) & (qpu_heatmap['tech'] == tech)\n",
    "        if mask.any():\n",
    "            qpu_heatmap.loc[mask, 'count'] += 1\n",
    "        else:\n",
    "            qpu_heatmap.loc[len(qpu_heatmap)] = [country, tech, 1]"
   ]
  },
  {
   "cell_type": "code",
   "execution_count": null,
   "id": "638c42b1-5fbf-48b2-9f5f-6505a27dddc7",
   "metadata": {
    "editable": false,
    "jupyter": {
     "source_hidden": true
    },
    "scrolled": true,
    "slideshow": {
     "slide_type": ""
    },
    "tags": []
   },
   "outputs": [],
   "source": [
    "def qpu_heatmap_fig(df):\n",
    "    # ------------------------------------------------------------------\n",
    "    # 1. Convert to matrix form (country x tech)\n",
    "    # ------------------------------------------------------------------\n",
    "    heatmap_data = df.pivot_table(index=\"country\", columns=\"tech\", values=\"count\", aggfunc=\"sum\")\n",
    "    heatmap_data.fillna(0, inplace=True)\n",
    "    \n",
    "    \n",
    "    # ------------------------------------------------------------------\n",
    "    # 2. Build the logarithmic colour-map\n",
    "    # ------------------------------------------------------------------\n",
    "    N = len(qpu_df['Technology'].unique())\n",
    "    base_cmap = mplColors.LinearSegmentedColormap.from_list(\"\", [\"#ffffff\", \"#A467B5\"], N=16384)\n",
    "    colors = base_cmap(np.log1p(25 * np.linspace(0, 1, N)) / np.log1p(25) + 0.05)\n",
    "    log_cmap = mplColors.ListedColormap(colors)\n",
    "    norm = mplColors.LogNorm(vmin=1, vmax=np.nanmax(heatmap_data.values))\n",
    "    \n",
    "    \n",
    "    \n",
    "    # ------------------------------------------------------------------\n",
    "    # 3. Create grapgh\n",
    "    # ------------------------------------------------------------------\n",
    "    fig, ax = mplPlt.subplots(figsize=(10, 8))\n",
    "    \n",
    "    sns.heatmap(\n",
    "        data=heatmap_data.fillna(0).astype(int),\n",
    "        ax=ax,\n",
    "        cmap=log_cmap,\n",
    "        norm=norm,\n",
    "        annot=True,\n",
    "        fmt=\"d\",\n",
    "        linewidths=.5,\n",
    "        linecolor=\"#f0f0f0\",\n",
    "        cbar_kws={\n",
    "            \"label\": \"count (log scale)\",\n",
    "            \"pad\": 0.2\n",
    "        }\n",
    "    )\n",
    "\n",
    "    ax.set_title('Nazione x Tecnologia', fontsize=20, pad=20)\n",
    "    ax.set_xlabel(\"Technology\", fontsize=16, labelpad=30)\n",
    "    ax.set_ylabel(\"Country\", fontsize=16, labelpad=30)\n",
    "\n",
    "    cbar = ax.collections[0].colorbar\n",
    "    cbar.ax.set_ylabel(\"count (log scale)\", labelpad=15, fontsize=12)\n",
    "\n",
    "    # Adds border\n",
    "    for side in [\"left\", \"bottom\", \"top\", \"right\"]:\n",
    "        ax.spines[side].set_visible(True)\n",
    "        ax.spines[side].set_linewidth(.25)\n",
    "        ax.spines[side].set_color(\"black\")\n",
    "\n",
    "    return fig"
   ]
  },
  {
   "cell_type": "code",
   "execution_count": null,
   "id": "5dbadb3e-6e84-4562-bc54-4f9a699f7af0",
   "metadata": {
    "editable": false,
    "jupyter": {
     "source_hidden": true
    },
    "scrolled": true,
    "slideshow": {
     "slide_type": ""
    },
    "tags": []
   },
   "outputs": [],
   "source": [
    "heat_fig = qpu_heatmap_fig(qpu_heatmap)\n",
    "heat_fig.tight_layout()\n",
    "heat_fig.savefig(\"Media/qpus_heatmap.png\", dpi=600, bbox_inches=\"tight\")"
   ]
  },
  {
   "cell_type": "code",
   "execution_count": null,
   "id": "8b6dce22-af60-4e02-906e-d4dec6f7bd70",
   "metadata": {
    "editable": false,
    "jupyter": {
     "source_hidden": true
    },
    "slideshow": {
     "slide_type": ""
    },
    "tags": []
   },
   "outputs": [],
   "source": [
    "# Keep only rows where the model is marked as \"Available\"\n",
    "available_df = qpu_df[qpu_df['Availability'].str.strip().str.lower() == 'available']\n",
    "\n",
    "\n",
    "\n",
    "# Ensure the \"Availability Date\" is numeric and drop missing values\n",
    "available_df = available_df.dropna(subset=['Availability Date'])\n",
    "available_df['Availability Date'] = available_df['Availability Date'].astype(int)\n",
    "\n",
    "\n",
    "\n",
    "# Group by year of availability and count the number of models\n",
    "available_models_by_year = available_df.groupby('Availability Date').size().reset_index(name='Model_Count').sort_values('Availability Date').reset_index(drop=True)"
   ]
  },
  {
   "cell_type": "code",
   "execution_count": null,
   "id": "7fb1fd83-23da-47bd-87ad-ed287fcac0ae",
   "metadata": {
    "editable": true,
    "jupyter": {
     "source_hidden": true
    },
    "slideshow": {
     "slide_type": ""
    },
    "tags": []
   },
   "outputs": [],
   "source": [
    "# Compute cumulative sum over the years\n",
    "cumulative_available_models = pd.DataFrame(columns=['year','available_models'])\n",
    "\n",
    "running_total = 0\n",
    "for _, row in available_models_by_year.iterrows():\n",
    "    running_total += row['Model_Count']\n",
    "    cumulative_available_models.loc[len(cumulative_available_models)] = [row['Availability Date'], running_total]"
   ]
  },
  {
   "cell_type": "code",
   "execution_count": null,
   "id": "85d0e069-bd55-41da-9fc6-37f1119f79de",
   "metadata": {
    "editable": false,
    "jupyter": {
     "source_hidden": true
    },
    "scrolled": true,
    "slideshow": {
     "slide_type": ""
    },
    "tags": []
   },
   "outputs": [],
   "source": [
    "def available_qpus():\n",
    "    # Plot the cumulative line graph\n",
    "    fig, ax = mplPlt.subplots()\n",
    "    ax.plot(cumulative_available_models['year'], cumulative_available_models['available_models'], marker='o', color=\"#A467B5\")\n",
    "    ax.set_xlabel('Anno', fontsize=11, labelpad=30)\n",
    "    ax.set_ylabel('Modelli di QPU', fontsize=11, labelpad=30)\n",
    "    ax.set_title('Numero di modelli di QPU disponibili, anno per anno', fontsize=13, pad=20)\n",
    "    ax.grid(True, color=\"#f0f0f0\")\n",
    "    return fig"
   ]
  },
  {
   "cell_type": "code",
   "execution_count": null,
   "id": "98041fe3-a315-43b9-b2ae-2849a1226673",
   "metadata": {
    "editable": false,
    "jupyter": {
     "source_hidden": true
    },
    "scrolled": true,
    "slideshow": {
     "slide_type": ""
    },
    "tags": []
   },
   "outputs": [],
   "source": [
    "avail_fig = available_qpus()\n",
    "avail_fig.tight_layout()\n",
    "avail_fig.savefig(\"Media/qpus_available.png\", dpi=600)"
   ]
  },
  {
   "cell_type": "code",
   "execution_count": null,
   "id": "298e471f-0317-4bbc-ae3a-bee7320ee0a1",
   "metadata": {
    "editable": false,
    "jupyter": {
     "source_hidden": true
    },
    "slideshow": {
     "slide_type": ""
    },
    "tags": []
   },
   "outputs": [],
   "source": [
    "# Keep only rows where the model is marked as \"Available\"\n",
    "planned_df = qpu_df[qpu_df['Availability'].str.strip().str.lower() == 'planned']\n",
    "\n",
    "\n",
    "\n",
    "# Ensure the \"Availability Date\" is numeric and drop missing values\n",
    "planned_df = planned_df.dropna(subset=['Availability Date'])\n",
    "planned_df['Availability Date'] = planned_df['Availability Date'].astype(int)\n",
    "\n",
    "\n",
    "\n",
    "# Group by year of availability and count the number of models\n",
    "planned_models_by_year = planned_df.groupby('Availability Date').size().reset_index(name='Model_Count').sort_values('Availability Date').reset_index(drop=True)"
   ]
  },
  {
   "cell_type": "code",
   "execution_count": null,
   "id": "c92fbd36-7248-4d4e-870e-e75177a4ab53",
   "metadata": {
    "editable": false,
    "jupyter": {
     "source_hidden": true
    },
    "slideshow": {
     "slide_type": ""
    },
    "tags": []
   },
   "outputs": [],
   "source": [
    "cumulative_planned_models = pd.DataFrame(columns=['year','available_models'])\n",
    "running_total = cumulative_available_models.loc[len(cumulative_available_models) - 1]['available_models']\n",
    "last_available_year = cumulative_available_models.loc[len(cumulative_available_models) - 1]['year']\n",
    "\n",
    "for _, row in planned_models_by_year.iterrows():\n",
    "    if row['Availability Date'] >= last_available_year:\n",
    "        running_total += row['Model_Count']\n",
    "        cumulative_planned_models.loc[len(cumulative_planned_models)] = [row['Availability Date'], running_total]"
   ]
  },
  {
   "cell_type": "code",
   "execution_count": null,
   "id": "97698c20-fcd9-4be4-9675-85096f4e2d35",
   "metadata": {
    "editable": false,
    "jupyter": {
     "source_hidden": true
    },
    "slideshow": {
     "slide_type": ""
    },
    "tags": []
   },
   "outputs": [],
   "source": [
    "def avail_plan_qpus():\n",
    "    # Plot the cumulative line graph\n",
    "    fig, ax = mplPlt.subplots()\n",
    "    ax.plot(cumulative_available_models['year'], cumulative_available_models['available_models'], marker='o', color=\"#A467B5\")\n",
    "    ax.plot(cumulative_planned_models['year'], cumulative_planned_models['available_models'], marker='x', color=\"#CBA7D4\")\n",
    "    ax.set_xlabel('Anno', fontsize=11, labelpad=30)\n",
    "    ax.set_ylabel('Modelli di QPU', fontsize=11, labelpad=30)\n",
    "    ax.set_title('Numero di modelli di QPU disponibili, anno per anno', fontsize=13, pad=20)\n",
    "    ax.grid(True, color=\"#f0f0f0\")\n",
    "    fig.tight_layout()\n",
    "    return fig"
   ]
  },
  {
   "cell_type": "code",
   "execution_count": null,
   "id": "44702993-808b-4132-a425-ae7b16004ff2",
   "metadata": {
    "editable": false,
    "jupyter": {
     "source_hidden": true
    },
    "scrolled": true,
    "slideshow": {
     "slide_type": ""
    },
    "tags": []
   },
   "outputs": [],
   "source": [
    "plan_fig = avail_plan_qpus()\n",
    "plan_fig.tight_layout()\n",
    "plan_fig.savefig(\"Media/qpus_planned.png\", dpi=600)"
   ]
  },
  {
   "cell_type": "code",
   "execution_count": null,
   "id": "2b70fdcf-026f-4f13-85e4-08d662864cc5",
   "metadata": {
    "editable": false,
    "jupyter": {
     "source_hidden": true
    },
    "slideshow": {
     "slide_type": ""
    },
    "tags": []
   },
   "outputs": [],
   "source": [
    "# --- Build masks -----------------------------------------------------------\n",
    "mask_status  = qpu_df[\"Availability\"].str.lower().isin([\"available\", \"planned\"])\n",
    "mask_qubits  = qpu_df[\"Physical Qubits\"].gt(0)\n",
    "\n",
    "# --- Slice, sort and reset index ------------------------------------------\n",
    "qpu_reduced_info = qpu_df.loc[mask_status & mask_qubits, [\"Manufacturer\", \"Model\", \"Availability\", \"Availability Date\", \"Physical Qubits\"]].sort_values(\"Availability Date\", na_position=\"last\").reset_index(drop=True)"
   ]
  },
  {
   "cell_type": "code",
   "execution_count": null,
   "id": "f89c6314-1c6c-4a9d-afc5-352b1986414c",
   "metadata": {
    "editable": false,
    "jupyter": {
     "source_hidden": true
    },
    "slideshow": {
     "slide_type": ""
    },
    "tags": []
   },
   "outputs": [],
   "source": [
    "qpu_reduced_info[\"Availability Date\"] = (\n",
    "    qpu_reduced_info[\"Availability Date\"]\n",
    "      .dropna()                                    # ignore NaNs\n",
    "      .astype(int)                                 # => 2024\n",
    "      .astype(str)                                 # => \"2024\"\n",
    "      .pipe(pd.to_datetime, format=\"%Y\")           # => 2024-01-01 00:00:00\n",
    ")"
   ]
  },
  {
   "cell_type": "code",
   "execution_count": null,
   "id": "5388eaaa-d794-4ab5-bebb-11c63a113cda",
   "metadata": {
    "editable": false,
    "jupyter": {
     "source_hidden": true
    },
    "scrolled": true,
    "slideshow": {
     "slide_type": ""
    },
    "tags": []
   },
   "outputs": [],
   "source": [
    "def qpu_scatterplot():\n",
    "    availability_palette = {\n",
    "        \"Available\": \"#A467B5\",\n",
    "        \"Planned\":   \"#CBA7D4\"\n",
    "    }\n",
    "    \n",
    "    fig, ax = mplPlt.subplots(figsize=(10,9))\n",
    "    \n",
    "    ax.set(xscale=\"linear\", yscale=\"log\")\n",
    "    ax.xaxis.set_major_locator(mdates.YearLocator())\n",
    "    ax.xaxis.set_major_formatter(mdates.DateFormatter('%Y'))\n",
    "    ax.tick_params(axis=\"x\", labelrotation=90)\n",
    "    \n",
    "    ax.grid(True, which=\"both\", linestyle=\"-\", linewidth=0.5, alpha=0.2)\n",
    "    \n",
    "    sns.scatterplot(\n",
    "        data=qpu_reduced_info,\n",
    "        ax=ax,\n",
    "        x=\"Availability Date\",\n",
    "        y=\"Physical Qubits\",\n",
    "        style=\"Availability\",\n",
    "        hue=\"Availability\",\n",
    "        palette=availability_palette,\n",
    "        s=50\n",
    "    )\n",
    "\n",
    "    ax.set_title('Qubit fisici, anno per anno', fontsize=24, pad=20)\n",
    "    ax.set_xlabel(\"Anno\", fontsize=18, labelpad=30)\n",
    "    ax.set_ylabel(\"Numero di Qubits\", fontsize=18, labelpad=30)\n",
    "\n",
    "    return fig"
   ]
  },
  {
   "cell_type": "code",
   "execution_count": null,
   "id": "3c81d213-4d83-4eb6-9a3a-05942f18d8b2",
   "metadata": {
    "editable": false,
    "jupyter": {
     "source_hidden": true
    },
    "scrolled": true,
    "slideshow": {
     "slide_type": ""
    },
    "tags": []
   },
   "outputs": [],
   "source": [
    "scpl_fig = qpu_scatterplot()\n",
    "scpl_fig.tight_layout()\n",
    "scpl_fig.savefig(\"Media/qpus_scatterplot.png\", dpi=600)"
   ]
  }
 ],
 "metadata": {
  "kernelspec": {
   "display_name": ".test4",
   "language": "python",
   "name": ".test4"
  },
  "language_info": {
   "codemirror_mode": {
    "name": "ipython",
    "version": 3
   },
   "file_extension": ".py",
   "mimetype": "text/x-python",
   "name": "python",
   "nbconvert_exporter": "python",
   "pygments_lexer": "ipython3",
   "version": "3.13.3"
  }
 },
 "nbformat": 4,
 "nbformat_minor": 5
}
