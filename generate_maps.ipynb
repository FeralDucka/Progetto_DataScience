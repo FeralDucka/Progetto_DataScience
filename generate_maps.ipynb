{
 "cells": [
  {
   "cell_type": "code",
   "execution_count": null,
   "id": "5c17d883-3c33-44b2-82a2-484a6a6d42f7",
   "metadata": {
    "editable": false,
    "jupyter": {
     "source_hidden": true
    },
    "scrolled": true,
    "slideshow": {
     "slide_type": "skip"
    },
    "tags": []
   },
   "outputs": [],
   "source": [
    "%pip install --upgrade pip"
   ]
  },
  {
   "cell_type": "code",
   "execution_count": null,
   "id": "40670300-5af6-471f-8a1d-df5891a2b1e3",
   "metadata": {
    "editable": false,
    "jupyter": {
     "source_hidden": true
    },
    "scrolled": true,
    "slideshow": {
     "slide_type": "skip"
    },
    "tags": []
   },
   "outputs": [],
   "source": [
    "%pip install numpy"
   ]
  },
  {
   "cell_type": "code",
   "execution_count": null,
   "id": "70b7969c-b731-48b9-9db9-afc5f95a6e18",
   "metadata": {
    "editable": false,
    "jupyter": {
     "source_hidden": true
    },
    "scrolled": true,
    "slideshow": {
     "slide_type": "skip"
    },
    "tags": []
   },
   "outputs": [],
   "source": [
    "%pip install matplotlib"
   ]
  },
  {
   "cell_type": "code",
   "execution_count": null,
   "id": "e0823b6b-3232-4f6a-b1ce-7556227b7568",
   "metadata": {
    "editable": false,
    "jupyter": {
     "source_hidden": true
    },
    "scrolled": true,
    "slideshow": {
     "slide_type": "skip"
    },
    "tags": []
   },
   "outputs": [],
   "source": [
    "%pip install geopandas"
   ]
  },
  {
   "cell_type": "code",
   "execution_count": null,
   "id": "156f2bd9-891f-4517-a5b5-6773a057024b",
   "metadata": {
    "editable": false,
    "jupyter": {
     "source_hidden": true
    },
    "scrolled": true,
    "slideshow": {
     "slide_type": "skip"
    },
    "tags": []
   },
   "outputs": [],
   "source": [
    "%pip install pandas"
   ]
  },
  {
   "cell_type": "code",
   "execution_count": null,
   "id": "5b831fa6-bb82-4428-82c4-fce0a9b7963d",
   "metadata": {
    "editable": false,
    "jupyter": {
     "source_hidden": true
    },
    "scrolled": true,
    "slideshow": {
     "slide_type": "skip"
    },
    "tags": []
   },
   "outputs": [],
   "source": [
    "%pip install fiona"
   ]
  },
  {
   "cell_type": "code",
   "execution_count": null,
   "id": "f06615ae-3634-4ad2-afaa-0b5b8b3eaabc",
   "metadata": {
    "editable": false,
    "jupyter": {
     "source_hidden": true
    },
    "slideshow": {
     "slide_type": "skip"
    },
    "tags": []
   },
   "outputs": [],
   "source": [
    "%pip install shapely"
   ]
  },
  {
   "cell_type": "code",
   "execution_count": null,
   "id": "d5d094da-6d0a-44ff-8e44-e193f9101214",
   "metadata": {
    "editable": false,
    "jupyter": {
     "source_hidden": true
    },
    "slideshow": {
     "slide_type": "skip"
    },
    "tags": []
   },
   "outputs": [],
   "source": [
    "%pip install pyproj"
   ]
  },
  {
   "cell_type": "code",
   "execution_count": null,
   "id": "bdedc851-b3c0-4cd4-9391-a05e7528e3ee",
   "metadata": {
    "editable": false,
    "jupyter": {
     "source_hidden": true
    },
    "slideshow": {
     "slide_type": "skip"
    },
    "tags": []
   },
   "outputs": [],
   "source": [
    "import re\n",
    "import collections\n",
    "import difflib\n",
    "import unicodedata\n",
    "import warnings\n",
    "\n",
    "import numpy as np\n",
    "\n",
    "from matplotlib.patches import Polygon as mplPolygon\n",
    "import matplotlib.pyplot as mplPlt\n",
    "from matplotlib.collections import PatchCollection as mplPC\n",
    "import matplotlib.colors as mplColors\n",
    "import matplotlib.animation as mplAnimation\n",
    "\n",
    "import geopandas as gpd\n",
    "import pandas as pd\n",
    "import fiona\n",
    "\n",
    "from shapely.geometry import MultiPolygon, box\n",
    "from shapely.ops import transform\n",
    "\n",
    "from pyproj import Transformer"
   ]
  },
  {
   "cell_type": "code",
   "execution_count": null,
   "id": "dabf4a74-e47f-4645-8f1a-19a7c0263dae",
   "metadata": {
    "editable": false,
    "jupyter": {
     "source_hidden": true
    },
    "slideshow": {
     "slide_type": "skip"
    },
    "tags": []
   },
   "outputs": [],
   "source": [
    "warnings.filterwarnings(\"ignore\", category=UserWarning, module=\"shapely\")"
   ]
  },
  {
   "cell_type": "code",
   "execution_count": null,
   "id": "67fab424-2129-4cd7-8d85-cf568879d64d",
   "metadata": {
    "editable": false,
    "jupyter": {
     "source_hidden": true
    },
    "slideshow": {
     "slide_type": "skip"
    },
    "tags": []
   },
   "outputs": [],
   "source": [
    "# ------------------------------------------------------------\n",
    "# 1. Load CSV with organization counts\n",
    "# ------------------------------------------------------------\n",
    "csv_path = 'Datasets/quantum_computing_report___organizations.csv'\n",
    "\n",
    "df = pd.read_csv(csv_path,sep=';',usecols=[\"Organization\",\"Acronym\",\"Type\",\"Link\",\"Location\",\"Specialization\"])\n",
    "df['Location2']=''\n",
    "df = df.reset_index()\n",
    "\n",
    "for index, row in df.iterrows():\n",
    "    if \", \" in row['Location']:\n",
    "        aux = row['Location'].split(\", \")\n",
    "        df.loc[index, 'Location']  = aux[0]\n",
    "        df.loc[index, 'Location2'] = aux[1]"
   ]
  },
  {
   "cell_type": "code",
   "execution_count": null,
   "id": "409db999-dce1-4345-9b65-3feeceabacb8",
   "metadata": {
    "editable": false,
    "jupyter": {
     "source_hidden": true
    },
    "scrolled": true,
    "slideshow": {
     "slide_type": "skip"
    },
    "tags": []
   },
   "outputs": [],
   "source": [
    "countries = pd.DataFrame(columns=['country', 'occurrences'])"
   ]
  },
  {
   "cell_type": "code",
   "execution_count": null,
   "id": "c90e3dca-80d0-4f2c-8e27-9c8a62a59f9c",
   "metadata": {
    "editable": false,
    "jupyter": {
     "source_hidden": true
    },
    "slideshow": {
     "slide_type": "skip"
    },
    "tags": []
   },
   "outputs": [],
   "source": [
    "for index, row in df.iterrows():\n",
    "    if row['Location'] not in countries['country'].values and row['Location'] != '':\n",
    "        countries = pd.concat([countries, pd.DataFrame([[row['Location'],int(1)]], columns=['country','occurrences'])])\n",
    "    else:\n",
    "        mask = countries['country'] == row['Location'] \n",
    "        countries.loc[mask, 'occurrences'] += 1\n",
    "    if row['Location2'] not in countries['country'].values and row['Location2'] != '':\n",
    "        countries = pd.concat([countries, pd.DataFrame([[row['Location2'],int(1)]], columns=['country','occurrences'])])\n",
    "    else:\n",
    "        mask = countries['country'] == row['Location2'] \n",
    "        countries.loc[mask, 'occurrences'] += 1\n",
    "\n",
    "countries.reset_index(drop=True, inplace=True)  "
   ]
  },
  {
   "cell_type": "code",
   "execution_count": null,
   "id": "275765d9-badb-42ba-82ed-52b5dea40dce",
   "metadata": {
    "editable": false,
    "jupyter": {
     "source_hidden": true
    },
    "slideshow": {
     "slide_type": "skip"
    },
    "tags": []
   },
   "outputs": [],
   "source": [
    "# ------------------------------------------------------------\n",
    "# 2. Load world countries shapes\n",
    "# ------------------------------------------------------------\n",
    "NE_SAVED = 'Datasets/ne_10m_admin_0_countries.zip'\n",
    "world = gpd.read_file(NE_SAVED)\n",
    "world = world[world['NAME'] != 'Antarctica']"
   ]
  },
  {
   "cell_type": "code",
   "execution_count": null,
   "id": "343249eb-830a-4ab9-815c-836a7bbd1227",
   "metadata": {
    "editable": false,
    "jupyter": {
     "source_hidden": true
    },
    "slideshow": {
     "slide_type": "skip"
    },
    "tags": []
   },
   "outputs": [],
   "source": [
    "# ------------------------------------------------------------\n",
    "# 3. Correct countries names\n",
    "# ------------------------------------------------------------\n",
    "\n",
    "# Helper name mapping\n",
    "def _norm(s: str) -> str:\n",
    "    s = unicodedata.normalize(\"NFKD\", s).encode(\"ascii\", \"ignore\").decode()\n",
    "    return re.sub(r\"[^a-z0-9]+\", \" \", s.lower()).strip()\n",
    "\n",
    "def _norm(s: str) -> str:\n",
    "    s = unicodedata.normalize(\"NFKD\", s).encode(\"ascii\", \"ignore\").decode()\n",
    "    return re.sub(r\"[^a-z0-9]+\", \" \", s.lower()).strip()\n",
    "\n",
    "synonyms = {\n",
    "    \"usa\": \"United States of America\",\n",
    "    \"uk\":  \"United Kingdom\",\n",
    "    \"uae\": \"United Arab Emirates\",\n",
    "    # other aliases\n",
    "}\n",
    "\n",
    "# mapping -> canonic name\n",
    "names_norm = {_norm(n): n for n in world[\"NAME\"]}\n",
    "\n",
    "def map_name(raw: str) -> str | None:\n",
    "    n = _norm(raw)\n",
    "    if n in synonyms:\n",
    "        return synonyms[n]\n",
    "    if n in names_norm:\n",
    "        return names_norm[n]\n",
    "    m = difflib.get_close_matches(n, names_norm.keys(), n=1, cutoff=0.75)\n",
    "    return names_norm[m[0]] if m else None"
   ]
  },
  {
   "cell_type": "code",
   "execution_count": null,
   "id": "1066d32a-345d-433c-87f1-d70a35d358c1",
   "metadata": {
    "editable": false,
    "jupyter": {
     "source_hidden": true
    },
    "slideshow": {
     "slide_type": "skip"
    },
    "tags": []
   },
   "outputs": [],
   "source": [
    "# ------------------------------------------------------------\n",
    "# 4. Join \"countries\" dataframe with \"World\" data\n",
    "# ------------------------------------------------------------\n",
    "countries[\"NAME\"] = countries[\"country\"].apply(map_name)\n",
    "countries = countries.dropna(subset=[\"NAME\"])\n",
    "countries_unique = (countries.groupby(\"NAME\", as_index=False, sort=False)[\"occurrences\"].sum())\n",
    "world = world.merge(countries_unique, on=\"NAME\", how=\"left\", validate=\"1:1\")\n",
    "world[\"occurrences\"] = pd.to_numeric(world[\"occurrences\"], errors=\"coerce\")\n",
    "world.loc[world[\"occurrences\"].isna(), \"occurrences\"] = 0.0"
   ]
  },
  {
   "cell_type": "code",
   "execution_count": null,
   "id": "e5b1c33f-c7b8-4234-9224-fd1ab6bae31c",
   "metadata": {
    "editable": false,
    "jupyter": {
     "source_hidden": true
    },
    "slideshow": {
     "slide_type": "skip"
    },
    "tags": []
   },
   "outputs": [],
   "source": [
    "# ------------------------------------------------------------\n",
    "# 5.  Make Europe a single polygon\n",
    "# ------------------------------------------------------------\n",
    "eu_exclude = {\n",
    "    \"Russia\",\n",
    "    \"Turkey\",\n",
    "    \"Kazakhstan\",\n",
    "    \"Azerbaijan\",\n",
    "    \"Georgia\",\n",
    "    \"Armenia\"\n",
    "}\n",
    "\n",
    "mask_eu = (world[\"CONTINENT\"] == \"Europe\") & (~world[\"NAME\"].isin(eu_exclude))\n",
    "eu = (world[mask_eu].dissolve(by=lambda _: \"Europe\", aggfunc={\"occurrences\": \"sum\"}).reset_index().assign(NAME=\"Europe\", CONTINENT=\"Europe\"))\n",
    "world_no_eu = world[~mask_eu].copy()\n",
    "world_mixed = pd.concat([eu, world_no_eu], ignore_index=True)"
   ]
  },
  {
   "cell_type": "code",
   "execution_count": null,
   "id": "111e142d-53a4-4e66-9206-89287e67b161",
   "metadata": {
    "editable": false,
    "jupyter": {
     "source_hidden": true
    },
    "slideshow": {
     "slide_type": "skip"
    },
    "tags": []
   },
   "outputs": [],
   "source": [
    "# ------------------------------------------------------------\n",
    "# 6. Projection on the 0° meridian\n",
    "# ------------------------------------------------------------\n",
    "to_merc  = Transformer.from_crs(\"EPSG:4326\", \"+proj=merc +lon_0=0 +k=1 +datum=WGS84 +units=m +no_defs\", always_xy=True).transform\n",
    "to_equal = Transformer.from_crs(\"EPSG:4326\", \"+proj=moll +lon_0=0 +datum=WGS84 +units=m +no_defs\", always_xy=True).transform\n",
    "clip_box = box(-180, -85, 180, 85)\n",
    "AREA_MIN = 5e9\n",
    "world_patches    = []\n",
    "world_patch_vals = []\n",
    "world_label_xy   = []\n",
    "world_label_vals = []\n",
    "\n",
    "for geom, val in zip(world_mixed.geometry, world_mixed.occurrences):\n",
    "    geom = geom.intersection(clip_box)\n",
    "    if geom.is_empty:\n",
    "        continue\n",
    "\n",
    "    merc_geom   = transform(to_merc, geom)\n",
    "    equal_geom  = transform(to_equal, geom)\n",
    "\n",
    "    polys_merc  = merc_geom.geoms  if isinstance(merc_geom,  MultiPolygon) else [merc_geom]\n",
    "    polys_equal = equal_geom.geoms if isinstance(equal_geom, MultiPolygon) else [equal_geom]\n",
    "\n",
    "    keep_any = False\n",
    "    \n",
    "    for poly_m, poly_e in zip(polys_merc, polys_equal):\n",
    "        if poly_e.area < AREA_MIN:\n",
    "            continue\n",
    "        keep_any = True\n",
    "        world_patches.append(mplPolygon(np.asarray(poly_m.exterior.coords), closed=True))\n",
    "        world_patch_vals.append(val)\n",
    "\n",
    "    if keep_any and val:\n",
    "        main_poly = max(polys_merc, key=lambda p: p.area)\n",
    "        c = main_poly.centroid\n",
    "        world_label_xy.append((c.x, c.y))\n",
    "        world_label_vals.append(int(val))"
   ]
  },
  {
   "cell_type": "code",
   "execution_count": null,
   "id": "e95bcac0-d16d-411e-a9ff-449ac183985f",
   "metadata": {
    "editable": false,
    "jupyter": {
     "source_hidden": true
    },
    "slideshow": {
     "slide_type": "skip"
    },
    "tags": []
   },
   "outputs": [],
   "source": [
    "# ------------------------------------------------------------\n",
    "# 7. Preapare the world plot\n",
    "# ------------------------------------------------------------\n",
    "def prepare_world_plot(patches, patch_vals):\n",
    "    vals_log = np.log10(np.asarray(patch_vals) + 1)\n",
    "    \n",
    "    fig, ax = mplPlt.subplots(figsize=(15, 8))\n",
    "    mplPlt.close(fig)\n",
    "    \n",
    "    colors = mplColors.LinearSegmentedColormap.from_list(\"\", [\"#ffffff\", \"#A467B5\"], N=16384)\n",
    "    \n",
    "    pc = mplPC(patches, cmap=colors, edgecolor=\"#666666\", linewidth=0.25)\n",
    "    pc.set_array(vals_log)\n",
    "    pc.set_clim(0, vals_log.max() or 1)\n",
    "    \n",
    "    all_x = [v for poly in patches for v in poly.get_xy()[:, 0]]\n",
    "    all_y = [v for poly in patches for v in poly.get_xy()[:, 1]]\n",
    "    \n",
    "    lim_pad_x = (max(all_x) - min(all_x)) * 0.02\n",
    "    lim_pad_y = (max(all_y) - min(all_y)) * 0.02\n",
    "    \n",
    "    return fig, ax, pc, (all_x, all_y, lim_pad_x, lim_pad_y)"
   ]
  },
  {
   "cell_type": "code",
   "execution_count": null,
   "id": "9816fc35-cebe-4708-8274-3d49cf51854f",
   "metadata": {
    "editable": false,
    "jupyter": {
     "source_hidden": true
    },
    "slideshow": {
     "slide_type": "skip"
    },
    "tags": []
   },
   "outputs": [],
   "source": [
    "def contrast(rgb):\n",
    "    r, g, b = rgb[:3]\n",
    "    lum = 0.299*r + 0.587*g + 0.114*b\n",
    "    return \"black\" if lum > 0.55 else \"white\""
   ]
  },
  {
   "cell_type": "code",
   "execution_count": null,
   "id": "402f79ca-4243-4e56-a817-65dc45e7e920",
   "metadata": {
    "editable": false,
    "jupyter": {
     "source_hidden": true
    },
    "slideshow": {
     "slide_type": "skip"
    },
    "tags": []
   },
   "outputs": [],
   "source": [
    "# ------------------------------------------------------------\n",
    "# 8. Render the plot\n",
    "# ------------------------------------------------------------\n",
    "def render_world_plot(fig, ax, pc, limits_data, label_xy, label_vals, circles=False):\n",
    "    all_x, all_y, lim_pad_x, lim_pad_y = limits_data\n",
    "    \n",
    "    ax.add_collection(pc)\n",
    "    ax.set_xlim(min(all_x) - lim_pad_x, max(all_x) + lim_pad_x)\n",
    "    ax.set_ylim(min(all_y) - lim_pad_y, max(all_y) + lim_pad_y)\n",
    "    ax.set_aspect(\"equal\")\n",
    "    ax.axis(\"off\")\n",
    "\n",
    "    cmap = pc.cmap\n",
    "    vmin, vmax = pc.get_clim()\n",
    "    norm = mplColors.Normalize(vmin=vmin, vmax=vmax)\n",
    "\n",
    "    for (x, y), v in zip(label_xy, label_vals):\n",
    "        val_log   = np.log10(v + 1)\n",
    "        shade_rgb = cmap(norm(val_log))\n",
    "        txt_color = contrast(shade_rgb)\n",
    "\n",
    "        if circles:\n",
    "            if v < 10:\n",
    "                halo_size_pts2 = 200\n",
    "            else:\n",
    "                halo_size_pts2 = 400\n",
    "        \n",
    "            if txt_color == \"black\":\n",
    "                ax.text(x, y, str(v), ha=\"center\", va=\"center\", fontsize=8, color=txt_color, zorder=3)\n",
    "                ax.scatter(x, y, s=halo_size_pts2, c=\"#dddddd\", alpha=0.3, linewidths=0, zorder=2)\n",
    "            else: \n",
    "                ax.text(x, y, str(v), ha=\"center\", va=\"center\", fontsize=8, color=txt_color, zorder=3, fontweight='bold')\n",
    "                ax.scatter(x, y, s=halo_size_pts2, c=\"white\", alpha=0.3, linewidths=0, zorder=2)"
   ]
  },
  {
   "cell_type": "code",
   "execution_count": null,
   "id": "af30f515-43b9-492a-ade0-5e1b05be7251",
   "metadata": {
    "editable": false,
    "jupyter": {
     "source_hidden": true
    },
    "slideshow": {
     "slide_type": "skip"
    },
    "tags": []
   },
   "outputs": [],
   "source": [
    "# ------------------------------------------------------------\n",
    "# 9. Animate the colouring of the countries\n",
    "# ------------------------------------------------------------\n",
    "def world_animation():\n",
    "    fig, ax, pc, limits_data = prepare_world_plot(world_patches, world_patch_vals)\n",
    "\n",
    "    vals_log_full = np.log10(np.asarray(world_patch_vals) + 1)\n",
    "    vals_log_work = np.zeros_like(vals_log_full)\n",
    "\n",
    "    pc.set_array(vals_log_work)\n",
    "    pc.set_clim(0, vals_log_full.max())\n",
    "\n",
    "    render_world_plot(fig, ax, pc, limits_data, label_xy=[], label_vals=[], circles=False)\n",
    "\n",
    "    def update(frame):\n",
    "        vals_log_work[frame] = vals_log_full[frame]\n",
    "        pc.set_array(vals_log_work)\n",
    "        return (pc,)\n",
    "\n",
    "    frames_total = len(vals_log_full)\n",
    "\n",
    "    return mplAnimation.FuncAnimation(fig, update, frames=frames_total, blit=True, repeat=False)"
   ]
  },
  {
   "cell_type": "code",
   "execution_count": null,
   "id": "8e891925-b7d4-4ac9-b02f-c07bb2ba91d0",
   "metadata": {
    "editable": false,
    "jupyter": {
     "source_hidden": true
    },
    "slideshow": {
     "slide_type": "skip"
    },
    "tags": []
   },
   "outputs": [],
   "source": [
    "world_anim = world_animation()\n",
    "world_anim.save(\"Media/qc_organizations_world.mp4\", writer = mplAnimation.FFMpegWriter(fps=60, codec=\"libx264\"), dpi=200)"
   ]
  },
  {
   "cell_type": "code",
   "execution_count": null,
   "id": "5a0adcf9-52ec-42ba-9d4d-e0e37fbf1445",
   "metadata": {
    "editable": false,
    "jupyter": {
     "source_hidden": true
    },
    "scrolled": true,
    "slideshow": {
     "slide_type": "skip"
    },
    "tags": []
   },
   "outputs": [],
   "source": [
    "# ------------------------------------------------------------\n",
    "# 10. Make a map with colored countries and their stats\n",
    "# ------------------------------------------------------------\n",
    "def world_png():\n",
    "    fig, ax, pc, limits_data = prepare_world_plot(world_patches, world_patch_vals)\n",
    "    render_world_plot(fig, ax, pc, limits_data, label_xy=world_label_xy, label_vals=world_label_vals, circles=True)\n",
    "    return fig"
   ]
  },
  {
   "cell_type": "code",
   "execution_count": null,
   "id": "e7bd073a-bdc5-49c0-b30a-1c4c2378912c",
   "metadata": {
    "editable": false,
    "jupyter": {
     "source_hidden": true
    },
    "slideshow": {
     "slide_type": "skip"
    },
    "tags": []
   },
   "outputs": [],
   "source": [
    "world_fig = world_png()\n",
    "world_fig.tight_layout()\n",
    "world_fig.savefig(\"Media/qc_organizations_world.png\", dpi=600)"
   ]
  },
  {
   "cell_type": "code",
   "execution_count": 30,
   "id": "beb5d481-cc84-4fb2-8b7c-99f69816e634",
   "metadata": {
    "editable": true,
    "slideshow": {
     "slide_type": "skip"
    },
    "tags": []
   },
   "outputs": [],
   "source": [
    "# ------------------------------------------------------------\n",
    "# 11. Make an histogram of the organizations on each country\n",
    "# ------------------------------------------------------------\n",
    "def world_hist():\n",
    "    countries_min5 = countries.loc[countries['occurrences'] >= 5].sort_values('occurrences', ascending=False)\n",
    "    total_bars = len(countries_min5)\n",
    "\n",
    "    cmap = mplColors.LinearSegmentedColormap.from_list(\"\", [\"#A467B5\", \"#ffffff\"], N=16384)\n",
    "    colors = cmap(np.log1p(25*np.linspace(0,1,total_bars))/np.log1p(25))\n",
    "\n",
    "    fig, ax = mplPlt.subplots(figsize=(10, 9))\n",
    "    mplPlt.close(fig)\n",
    "    \n",
    "    bars = ax.bar(range(len(countries_min5)), np.zeros(len(countries_min5)), color=colors, edgecolor=\"black\")\n",
    "    \n",
    "    def init_bars():\n",
    "        for bar in bars:\n",
    "            bar.set_height(0)\n",
    "        return bars\n",
    "\n",
    "    ax.set_xticks(range(len(countries_min5)))\n",
    "    ax.set_xticklabels(countries_min5['country'], rotation=90)\n",
    "    ax.set_ylim(0, countries_min5['occurrences'].max() * 1.1)\n",
    "    ax.set_title(\"Organizzazioni di Quantum-computing per Nazione\", fontsize=16, pad=30)\n",
    "    ax.set_ylabel(\"Numero di Organizazioni\", fontsize=16, labelpad=30)\n",
    "    ax.set_xlabel(\"Nazione\", fontsize=16, labelpad=30)\n",
    "\n",
    "    steps_per_bar = 1\n",
    "    total_frames = int((total_bars * steps_per_bar) * 1.1)\n",
    "    final_heights = countries_min5['occurrences'].values\n",
    "\n",
    "    def animate(frame):\n",
    "        bar_idx = frame // steps_per_bar\n",
    "        prog = (frame % steps_per_bar) / steps_per_bar\n",
    "\n",
    "        for i, bar in enumerate(bars):\n",
    "            if i < bar_idx:\n",
    "                bar.set_height(final_heights[i])\n",
    "            elif i == bar_idx:\n",
    "                bar.set_height(final_heights[i] * prog)\n",
    "            else:\n",
    "                bar.set_height(0)\n",
    "        return bars\n",
    "\n",
    "    return mplAnimation.FuncAnimation(fig, animate, init_func=init_bars, frames=total_frames, blit=True)"
   ]
  },
  {
   "cell_type": "code",
   "execution_count": 31,
   "id": "a28722da-1394-4ced-80be-a17e39a22323",
   "metadata": {
    "editable": false,
    "slideshow": {
     "slide_type": "skip"
    },
    "tags": []
   },
   "outputs": [],
   "source": [
    "hist_anim = world_hist()\n",
    "hist_anim.save(\"Media/qc_organizations_histogram.mp4\", writer=mplAnimation.FFMpegWriter(fps=20, codec=\"libx264\"), dpi=200)"
   ]
  },
  {
   "cell_type": "code",
   "execution_count": null,
   "id": "21909a36-dfba-4856-8329-3df5bd5ce1fe",
   "metadata": {
    "editable": true,
    "slideshow": {
     "slide_type": ""
    },
    "tags": []
   },
   "outputs": [],
   "source": []
  }
 ],
 "metadata": {
  "kernelspec": {
   "display_name": ".test4",
   "language": "python",
   "name": ".test4"
  },
  "language_info": {
   "codemirror_mode": {
    "name": "ipython",
    "version": 3
   },
   "file_extension": ".py",
   "mimetype": "text/x-python",
   "name": "python",
   "nbconvert_exporter": "python",
   "pygments_lexer": "ipython3",
   "version": "3.13.3"
  }
 },
 "nbformat": 4,
 "nbformat_minor": 5
}
