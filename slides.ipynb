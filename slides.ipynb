{
 "cells": [
  {
   "cell_type": "markdown",
   "id": "133661ae-755c-4d48-bda8-a69480f0cbb0",
   "metadata": {
    "editable": false,
    "slideshow": {
     "slide_type": "notes"
    },
    "tags": []
   },
   "source": [
    "# !! Attenzione !!\n",
    "\n",
    "Prima di compilare la presentazione, ricordati di eseguire \"**generate_maps.ipynb**\" e \"**qpu_list_manipulation.ipynb**\" fino a completamento."
   ]
  },
  {
   "cell_type": "markdown",
   "id": "aa1b5076-3d2e-40f3-b55a-8a8956356486",
   "metadata": {
    "editable": false,
    "slideshow": {
     "slide_type": "skip"
    },
    "tags": []
   },
   "source": [
    "-------"
   ]
  },
  {
   "cell_type": "markdown",
   "id": "01b05b57-dbf1-4dbe-a57e-09a454e86a93",
   "metadata": {
    "editable": true,
    "slideshow": {
     "slide_type": "slide"
    },
    "tags": []
   },
   "source": [
    "# Introduzione\n",
    "\n",
    "Studio sul mercato dei Computer Quantistici e le loro implementazioni hardware.\n",
    "\n",
    "<br>\n",
    "<br>\n",
    "<br>\n",
    "\n",
    "<center>\n",
    "    <img src=\"Media/Qiskit-Logo.svg\" style=\"height: 20vh; width:auto;\"/>\n",
    "</center>"
   ]
  },
  {
   "cell_type": "markdown",
   "id": "e737203b-20b2-470b-b2cd-1170c3e89570",
   "metadata": {
    "editable": true,
    "jp-MarkdownHeadingCollapsed": true,
    "slideshow": {
     "slide_type": "subslide"
    },
    "tags": []
   },
   "source": [
    "## Perché?\n",
    "\n",
    "<br>\n",
    "\n",
    "- I computer quantistici sono un mio speciale interesse e volevo sapere la loro evoluzione negli anni.<br>\n",
    "<br>\n",
    "\n",
    "- Sono un mercato in sviluppo, ma spesso non se ne sente parlare.<br>\n",
    "<br>\n",
    "\n",
    "- Voglio fare un punto della situazione."
   ]
  },
  {
   "cell_type": "markdown",
   "id": "2a46aa48-80d1-49f7-86f5-bf5ef1532e85",
   "metadata": {
    "editable": true,
    "slideshow": {
     "slide_type": "subslide"
    },
    "tags": []
   },
   "source": [
    "## Cosa serve sapere?\n",
    "\n",
    "<br>\n",
    "\n",
    "- Per il <span style=\"color:#A467B5\">pubblico</span>:\n",
    "\n",
    "Non servono particolari conoscenze pregresse, anche se conoscere le varie tecnologie di implementazione potrebbe aiutare\n",
    "\n",
    "<br>\n",
    "<br>\n",
    "<br>\n",
    "\n",
    "- Per <span style=\"color:#A467B5\">chi presenta</span>:\n",
    "\n",
    "Serve conoscere, almeno a grandi linee, come funziona un computer quantistico e le tecnologie impiegate per realizzarlo."
   ]
  },
  {
   "cell_type": "markdown",
   "id": "cddba1c1-f82f-49e9-81d5-37146d17735e",
   "metadata": {
    "editable": true,
    "slideshow": {
     "slide_type": "subslide"
    },
    "tags": []
   },
   "source": [
    "## Domande dello studio\n",
    "\n",
    "<br>\n",
    "\n",
    "- Come sono distribuite le aziende, in questo settore, nel mondo?<br>\n",
    "<br>\n",
    "\n",
    "- Come si è evoluto l'hardware nel tempo?<br>\n",
    "<br>\n",
    "\n",
    "- Quanti e quali dati sono disponibili per potere fare una comparazione."
   ]
  },
  {
   "cell_type": "markdown",
   "id": "4bcc8367-1a14-4ee0-a8e6-289a8fba0ac3",
   "metadata": {
    "editable": false,
    "slideshow": {
     "slide_type": "skip"
    },
    "tags": []
   },
   "source": [
    "-------"
   ]
  },
  {
   "cell_type": "markdown",
   "id": "af8011cf-bbcc-453f-93a8-828b0c730c63",
   "metadata": {
    "editable": true,
    "jp-MarkdownHeadingCollapsed": true,
    "slideshow": {
     "slide_type": "slide"
    },
    "tags": []
   },
   "source": [
    "# Dataset\n",
    "\n",
    "<br>\n",
    "<br>\n",
    "<br>\n",
    "\n",
    "<center>\n",
    "    <img src=\"Media/file_icon.svg\" style=\"height: 20vh; width:auto;\"/>\n",
    "</center>"
   ]
  },
  {
   "cell_type": "markdown",
   "id": "f0c333b2-96c1-41e9-bfe4-d8f78d69d79f",
   "metadata": {
    "editable": true,
    "slideshow": {
     "slide_type": "subslide"
    },
    "tags": []
   },
   "source": [
    "# Dataset\n",
    "\n",
    "<br>\n",
    "\n",
    "I dataset usati sono stati creati a mano, ad-hoc, per questo studio.<br>\n",
    "In quanto non sembrano esserci, liberamente disponibili, altri dataset pubblici."
   ]
  },
  {
   "cell_type": "markdown",
   "id": "ee4ac99a-305a-4da8-94c3-08e4eb0a4dc2",
   "metadata": {
    "editable": true,
    "slideshow": {
     "slide_type": "subslide"
    },
    "tags": []
   },
   "source": [
    "# Dataset\n",
    "\n",
    "<br>\n",
    "\n",
    "I dataset usati sono stati creati a mano, ad-hoc, per questo studio.<br>\n",
    "In quanto non sembrano esserci, liberamente disponibili, altri dataset pubblici.\n",
    "\n",
    "<br>\n",
    "<br>\n",
    "\n",
    "I dataset usati sono <span style=\"color:#A467B5\">2</span>:\n",
    "\n",
    "- Un dataset contente tutte le organizzazioni presenti sul settore, nel mondo<br>\n",
    "\n",
    "- Un dataset contente tutti i \"Processori Quantistici\" (o QPU) annunciati pubblicamente"
   ]
  },
  {
   "cell_type": "markdown",
   "id": "22280871-2d12-4e8e-9744-e20c3b01b278",
   "metadata": {
    "editable": false,
    "slideshow": {
     "slide_type": "skip"
    },
    "tags": []
   },
   "source": [
    "-----"
   ]
  },
  {
   "cell_type": "markdown",
   "id": "2ce21acb-834c-4c5c-9200-69b0b603b5a9",
   "metadata": {
    "editable": true,
    "slideshow": {
     "slide_type": "slide"
    },
    "tags": []
   },
   "source": [
    "<h1><span style=\"color:#A467B5\">World Organizations</span> Overview</h1>\n",
    "\n",
    "Lorem ipsum dolor sit amet, consectetur adipiscing elit, sed do eiusmod tempor incididunt ut labore et dolore magna aliqua.<br>\n",
    "Ut enim ad minim veniam, quis nostrud exercitation ullamco laboris nisi ut aliquip ex ea commodo consequat.\n",
    "\n",
    "Duis aute irure dolor in reprehenderit in voluptate velit esse cillum dolore eu fugiat nulla pariatur.<br>\n",
    "Excepteur sint occaecat cupidatat non proident, sunt in culpa qui officia deserunt mollit anim id est laborum."
   ]
  },
  {
   "cell_type": "markdown",
   "id": "953909c9-e89f-41af-b4c2-6512338e1fc3",
   "metadata": {
    "editable": true,
    "jp-MarkdownHeadingCollapsed": true,
    "slideshow": {
     "slide_type": "subslide"
    },
    "tags": []
   },
   "source": [
    "<h2><span style=\"color:#A467B5\">World Organizations</span> Overview</h2>\n",
    "<div class=\"map_center\">\n",
    "    <iframe\n",
    "        src=\"HTML/qc_organizations_world_anim.html\"\n",
    "        title=\"\"\n",
    "        style=\"width:100%; height:100%; border:none\"\n",
    "        allow=\"autoplay\"\n",
    "    ></iframe>\n",
    "    <b class=\"img_description\">Aziende e Organizzazioni del settore del \"Quantum Computing\".</b>\n",
    "</div>"
   ]
  },
  {
   "cell_type": "markdown",
   "id": "db3c8fea-e592-415a-8e00-e3f1e805d1e7",
   "metadata": {
    "editable": true,
    "slideshow": {
     "slide_type": "subslide"
    },
    "tags": []
   },
   "source": [
    "<h2><span style=\"color:#A467B5\">World Organizations</span> Overview</h2>\n",
    "<div class=\"map_center\">\n",
    "    <iframe\n",
    "        src=\"HTML/qc_organizations_world_img.html\"\n",
    "        title=\"\"\n",
    "        style=\"width:100%; height:100%; border:none\"\n",
    "    ></iframe>\n",
    "    <b class=\"img_description\">Aziende e Organizzazioni del settore del \"Quantum Computing\".</b>\n",
    "</div>"
   ]
  },
  {
   "cell_type": "markdown",
   "id": "e6da6ccf-1db9-47bb-8136-8f19b2f50a5e",
   "metadata": {
    "editable": true,
    "slideshow": {
     "slide_type": "subslide"
    },
    "tags": []
   },
   "source": [
    "<h2><span style=\"color:#A467B5\">World Organizations</span> Overview</h2>\n",
    "<div class=\"map_center\">\n",
    "    <iframe\n",
    "        src=\"HTML/qc_organizations_histogram.html\"\n",
    "        title=\"\"\n",
    "        style=\"width:100%; height:100%; border:none\"\n",
    "        allow=\"autoplay\"\n",
    "    ></iframe>\n",
    "</div>"
   ]
  },
  {
   "cell_type": "markdown",
   "id": "2ad0638d-5fd6-488f-b805-26643a2d60e3",
   "metadata": {
    "editable": false,
    "slideshow": {
     "slide_type": "skip"
    },
    "tags": []
   },
   "source": [
    "-----"
   ]
  },
  {
   "cell_type": "markdown",
   "id": "edff23f9-f7d9-4f72-86c8-877d757adeb9",
   "metadata": {
    "editable": true,
    "slideshow": {
     "slide_type": "slide"
    },
    "tags": []
   },
   "source": [
    "<h1><span style=\"color:#A467B5\">Quantum-Hardware</span> Overview</h1>\n",
    "\n",
    "Lorem ipsum dolor sit amet, consectetur adipiscing elit, sed do eiusmod tempor incididunt ut labore et dolore magna aliqua.<br>\n",
    "Ut enim ad minim veniam, quis nostrud exercitation ullamco laboris nisi ut aliquip ex ea commodo consequat.\n",
    "\n",
    "Duis aute irure dolor in reprehenderit in voluptate velit esse cillum dolore eu fugiat nulla pariatur.<br>\n",
    "Excepteur sint occaecat cupidatat non proident, sunt in culpa qui officia deserunt mollit anim id est laborum."
   ]
  },
  {
   "cell_type": "markdown",
   "id": "1e4d164f-a7fa-4410-ade1-fac9d6858766",
   "metadata": {
    "editable": true,
    "slideshow": {
     "slide_type": "subslide"
    },
    "tags": []
   },
   "source": [
    "<h2><span style=\"color:#A467B5\">Quantum-Hardware</span> Overview</h2>\n",
    "<div class=\"map_center\">\n",
    "    <iframe\n",
    "        src=\"HTML/qpus_histogram.html\"\n",
    "        title=\"\"\n",
    "        style=\"width:100%; height:100%; border:none\"\n",
    "        allow=\"autoplay\"\n",
    "    ></iframe>\n",
    "</div>"
   ]
  },
  {
   "cell_type": "markdown",
   "id": "91298eac-af09-44d8-88a6-fa12c18828b4",
   "metadata": {
    "editable": true,
    "slideshow": {
     "slide_type": "subslide"
    },
    "tags": []
   },
   "source": [
    "<h2 style=\"margin-bottom:50px;\"><span style=\"color:#A467B5\">Quantum-Hardware</span> Overview</h2>\n",
    "<div class=\"map_center\">\n",
    "    <iframe\n",
    "        src=\"HTML/qpus_heatmap.html\"\n",
    "        title=\"\"\n",
    "        style=\"width:100%; height:100%; border:none\"\n",
    "    ></iframe>\n",
    "</div>"
   ]
  },
  {
   "cell_type": "markdown",
   "id": "c2b5ec08-aa74-483c-a396-35f341244d2b",
   "metadata": {
    "editable": true,
    "slideshow": {
     "slide_type": "subslide"
    },
    "tags": []
   },
   "source": [
    "<h2 style=\"margin-bottom:50px;><span style=\"color:#A467B5\">Quantum-Hardware</span> Overview</h2>\n",
    "<div class=\"map_center\">\n",
    "    <iframe\n",
    "        src=\"HTML/qpus_available.html\"\n",
    "        title=\"\"\n",
    "        style=\"width:100%; height:100%; border:none\"\n",
    "    ></iframe>\n",
    "</div>"
   ]
  },
  {
   "cell_type": "markdown",
   "id": "19deff53-51e0-41c0-88ee-49f2876bbd30",
   "metadata": {
    "editable": true,
    "raw_mimetype": "",
    "slideshow": {
     "slide_type": "subslide"
    },
    "tags": []
   },
   "source": [
    "<h2 style=\"margin-bottom:50px;><span style=\"color:#A467B5\">Quantum-Hardware</span> Overview</h2>\n",
    "<div class=\"map_center\">\n",
    "    <iframe\n",
    "        src=\"HTML/qpus_planned.html\"\n",
    "        title=\"\"\n",
    "        style=\"width:100%; height:100%; border:none\"\n",
    "    ></iframe>\n",
    "</div>"
   ]
  },
  {
   "cell_type": "markdown",
   "id": "8971a5c5-faa1-4474-a80a-ff37779ec5db",
   "metadata": {
    "editable": true,
    "slideshow": {
     "slide_type": "subslide"
    },
    "tags": []
   },
   "source": [
    "<h2 style=\"margin-bottom:50px;><span style=\"color:#A467B5\">Quantum-Hardware</span> Overview</h2>\n",
    "<div class=\"map_center\">\n",
    "    <iframe\n",
    "        src=\"HTML/qpus_scatterplot.html\"\n",
    "        title=\"\"\n",
    "        style=\"width:100%; height:100%; border:none\"\n",
    "    ></iframe>\n",
    "</div>"
   ]
  },
  {
   "cell_type": "markdown",
   "id": "7f7870f6-7037-4cef-b5b1-185e22507262",
   "metadata": {
    "editable": false,
    "slideshow": {
     "slide_type": "skip"
    },
    "tags": []
   },
   "source": [
    "-----"
   ]
  },
  {
   "cell_type": "markdown",
   "id": "5d857c92-294f-4773-affa-6ab302552ae9",
   "metadata": {
    "editable": true,
    "slideshow": {
     "slide_type": "slide"
    },
    "tags": []
   },
   "source": [
    "<h1>Conclusioni</h1>\n",
    "\n",
    "Lorem ipsum dolor sit amet, consectetur adipiscing elit, sed do eiusmod tempor incididunt ut labore et dolore magna aliqua.<br>\n",
    "Ut enim ad minim veniam, quis nostrud exercitation ullamco laboris nisi ut aliquip ex ea commodo consequat.\n",
    "\n",
    "Duis aute irure dolor in reprehenderit in voluptate velit esse cillum dolore eu fugiat nulla pariatur.<br>\n",
    "Excepteur sint occaecat cupidatat non proident, sunt in culpa qui officia deserunt mollit anim id est laborum."
   ]
  }
 ],
 "metadata": {
  "kernelspec": {
   "display_name": ".test4",
   "language": "python",
   "name": ".test4"
  },
  "language_info": {
   "codemirror_mode": {
    "name": "ipython",
    "version": 3
   },
   "file_extension": ".py",
   "mimetype": "text/x-python",
   "name": "python",
   "nbconvert_exporter": "python",
   "pygments_lexer": "ipython3",
   "version": "3.13.3"
  }
 },
 "nbformat": 4,
 "nbformat_minor": 5
}
